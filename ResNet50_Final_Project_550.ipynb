{
  "cells": [
    {
      "cell_type": "code",
      "source": [
        "from google.colab import drive\n",
        "drive.mount('/content/drive')"
      ],
      "metadata": {
        "colab": {
          "base_uri": "https://localhost:8080/"
        },
        "id": "SnDARw5tbR3B",
        "outputId": "8858a653-8460-4949-bb13-9dbe0245539c"
      },
      "execution_count": null,
      "outputs": [
        {
          "output_type": "stream",
          "name": "stdout",
          "text": [
            "Mounted at /content/drive\n"
          ]
        }
      ]
    },
    {
      "cell_type": "code",
      "source": [
        "!nvidia-smi"
      ],
      "metadata": {
        "colab": {
          "base_uri": "https://localhost:8080/"
        },
        "id": "MWf1u2k8qT8W",
        "outputId": "23e000a5-bdc3-4313-89bb-d5709e0c1108"
      },
      "execution_count": null,
      "outputs": [
        {
          "output_type": "stream",
          "name": "stdout",
          "text": [
            "Thu Dec 22 22:54:19 2022       \n",
            "+-----------------------------------------------------------------------------+\n",
            "| NVIDIA-SMI 460.32.03    Driver Version: 460.32.03    CUDA Version: 11.2     |\n",
            "|-------------------------------+----------------------+----------------------+\n",
            "| GPU  Name        Persistence-M| Bus-Id        Disp.A | Volatile Uncorr. ECC |\n",
            "| Fan  Temp  Perf  Pwr:Usage/Cap|         Memory-Usage | GPU-Util  Compute M. |\n",
            "|                               |                      |               MIG M. |\n",
            "|===============================+======================+======================|\n",
            "|   0  A100-SXM4-40GB      Off  | 00000000:00:04.0 Off |                    0 |\n",
            "| N/A   33C    P0    54W / 400W |      0MiB / 40536MiB |      0%      Default |\n",
            "|                               |                      |             Disabled |\n",
            "+-------------------------------+----------------------+----------------------+\n",
            "                                                                               \n",
            "+-----------------------------------------------------------------------------+\n",
            "| Processes:                                                                  |\n",
            "|  GPU   GI   CI        PID   Type   Process name                  GPU Memory |\n",
            "|        ID   ID                                                   Usage      |\n",
            "|=============================================================================|\n",
            "|  No running processes found                                                 |\n",
            "+-----------------------------------------------------------------------------+\n"
          ]
        }
      ]
    },
    {
      "cell_type": "code",
      "execution_count": null,
      "metadata": {
        "id": "q8LHspF3axfl",
        "colab": {
          "base_uri": "https://localhost:8080/"
        },
        "outputId": "314e4ffd-74ad-444c-cee9-cae5ff9061b8"
      },
      "outputs": [
        {
          "output_type": "stream",
          "name": "stdout",
          "text": [
            "Looking in indexes: https://pypi.org/simple, https://us-python.pkg.dev/colab-wheels/public/simple/\n",
            "Collecting torchinfo\n",
            "  Downloading torchinfo-1.7.1-py3-none-any.whl (22 kB)\n",
            "Installing collected packages: torchinfo\n",
            "Successfully installed torchinfo-1.7.1\n"
          ]
        }
      ],
      "source": [
        "from torchvision import models, datasets, transforms\n",
        "import torchvision\n",
        "import torch\n",
        "import torch.nn as nn\n",
        "import torch.optim as optim\n",
        "from torch.utils.data import Dataset\n",
        "import numpy as np\n",
        "import pandas as pd\n",
        "import matplotlib.pyplot as plt\n",
        "from glob import glob\n",
        "from tqdm import tqdm\n",
        "import shutil\n",
        "import os\n",
        "from PIL import ImageFile\n",
        "from PIL import Image\n",
        "ImageFile.LOAD_TRUNCATED_IMAGES = True\n",
        "%pip install torchinfo\n",
        "from torchinfo import summary\n",
        "from sklearn.metrics import f1_score, balanced_accuracy_score, roc_auc_score, precision_score, recall_score\n",
        "import copy"
      ]
    },
    {
      "cell_type": "markdown",
      "source": [
        "# Raw Data Preprocessing"
      ],
      "metadata": {
        "id": "sgvWkgqopWpY"
      }
    },
    {
      "cell_type": "code",
      "source": [
        "!cp /content/drive/MyDrive/ERS/seq_0000.zip .\n",
        "!unzip seq_0000.zip"
      ],
      "metadata": {
        "id": "wd1tTg0QbhtI"
      },
      "execution_count": null,
      "outputs": []
    },
    {
      "cell_type": "code",
      "execution_count": null,
      "metadata": {
        "id": "31IHldORaxfo"
      },
      "outputs": [],
      "source": [
        "benign_files = glob(\"seq_0000/benign/*.png\")\n",
        "benign_path = \"seq_0000/benign\"\n",
        "benign_dict = {}\n",
        "malignant_files = glob(\"seq_0000/malignant/*.png\")\n",
        "malignant_path = \"seq_0000/malignant\"\n",
        "malignant_dict = {}"
      ]
    },
    {
      "cell_type": "code",
      "execution_count": null,
      "metadata": {
        "id": "fzapGQNQaxfq"
      },
      "outputs": [],
      "source": [
        "for f in benign_files:\n",
        "    k = f.split(benign_path)[-1].split(\"-\")[0].replace(\"/\",\"\")\n",
        "    if k not in benign_dict: benign_dict[k] = []\n",
        "    benign_dict[k].append(f)\n",
        "\n",
        "for f in malignant_files:\n",
        "    k = f.split(malignant_path)[-1].split(\"-\")[0].replace(\"/\",\"\")\n",
        "    if k not in malignant_dict: malignant_dict[k] = []\n",
        "    malignant_dict[k].append(f)"
      ]
    },
    {
      "cell_type": "code",
      "execution_count": null,
      "metadata": {
        "id": "2NVRFPfEaxfr"
      },
      "outputs": [],
      "source": [
        "benign_patients = list(benign_dict.keys())\n",
        "malignant_patients = list(malignant_dict.keys())\n",
        "y_benign = [0 for i in range(len(benign_patients))]\n",
        "y_malignant = [1 for i in range(len(malignant_patients))]"
      ]
    },
    {
      "cell_type": "code",
      "execution_count": null,
      "metadata": {
        "id": "LOXAA5EYaxfs"
      },
      "outputs": [],
      "source": [
        "patients = benign_patients + malignant_patients\n",
        "y = y_benign + y_malignant"
      ]
    },
    {
      "cell_type": "code",
      "execution_count": null,
      "metadata": {
        "id": "C8DrLAhbaxfs"
      },
      "outputs": [],
      "source": [
        "to_ignore = list(set(benign_patients) & set(malignant_patients))"
      ]
    },
    {
      "cell_type": "code",
      "execution_count": null,
      "metadata": {
        "id": "NtohjYTIaxft"
      },
      "outputs": [],
      "source": [
        "patients = [(x, y_value) for (x, y_value) in zip(patients, y) if x not in to_ignore]"
      ]
    },
    {
      "cell_type": "code",
      "execution_count": null,
      "metadata": {
        "id": "5hhZ-1r-axfu"
      },
      "outputs": [],
      "source": [
        "patients, y = zip(*patients)"
      ]
    },
    {
      "cell_type": "code",
      "execution_count": null,
      "metadata": {
        "id": "prkkAQkMaxfv"
      },
      "outputs": [],
      "source": [
        "np.random.seed(2022)\n",
        "from sklearn.model_selection import train_test_split\n",
        "X_train, X_t, y_train, y_t = train_test_split(patients, y, test_size=0.2, shuffle=True)\n",
        "X_val, X_test, y_val, y_test= train_test_split(X_t, y_t, test_size=0.5, shuffle=True)"
      ]
    },
    {
      "cell_type": "code",
      "execution_count": null,
      "metadata": {
        "id": "7nMchx-xaxfw"
      },
      "outputs": [],
      "source": [
        "benign_counter = 0\n",
        "malignant_counter = 0\n",
        "for key in X_train:\n",
        "    if key in benign_dict:\n",
        "        benign_counter += len(benign_dict[key])\n",
        "    else:\n",
        "        malignant_counter += len(malignant_dict[key])"
      ]
    },
    {
      "cell_type": "code",
      "source": [
        "!mkdir processed_data/"
      ],
      "metadata": {
        "id": "sAN3W7_EgSG2"
      },
      "execution_count": null,
      "outputs": []
    },
    {
      "cell_type": "code",
      "source": [
        "transform = transforms.Compose([\n",
        "      transforms.Resize((232,232)),\n",
        "      transforms.CenterCrop((224, 224)),\n",
        "      transforms.ToTensor(),\n",
        "      transforms.Normalize(mean=[0.485, 0.456, 0.406], std=[0.229, 0.224, 0.225]),\n",
        "])\n",
        "\n",
        "def save_split(data, benign_dict, malignant_dict, split=\"train\"):\n",
        "  X = []\n",
        "  y = []\n",
        "  counter = 0\n",
        "  for k in tqdm(data):\n",
        "    if k in benign_dict:\n",
        "      for img_path in benign_dict[k]:\n",
        "        y.append(0)\n",
        "        img_path = img_path.replace(\"\\\\\", '/')\n",
        "        im = Image.open(img_path)\n",
        "        im = transform(im)\n",
        "        X.append(im)\n",
        "    else:\n",
        "      for img_path in malignant_dict[k]:\n",
        "        y.append(1)\n",
        "        img_path = img_path.replace(\"\\\\\", '/')\n",
        "        im = Image.open(img_path)\n",
        "        im = transform(im)\n",
        "        X.append(im)\n",
        "  X = torch.stack(X, dim=0).to(torch.float)\n",
        "  y = torch.FloatTensor(y).unsqueeze(1)\n",
        "  X_path = f\"/content/drive/MyDrive/ERS/X_{split}.pt\"\n",
        "  y_path = f\"/content/drive/MyDrive/ERS/y_{split}.pt\"\n",
        "  torch.save(X, X_path)\n",
        "  torch.save(y, y_path)"
      ],
      "metadata": {
        "id": "XCI323-Qgp2k"
      },
      "execution_count": null,
      "outputs": []
    },
    {
      "cell_type": "code",
      "source": [
        "save_split(X_train, benign_dict, malignant_dict, split=\"train\")\n",
        "save_split(X_val, benign_dict, malignant_dict, split=\"val\")\n",
        "save_split(X_test, benign_dict, malignant_dict, split=\"test\")"
      ],
      "metadata": {
        "colab": {
          "base_uri": "https://localhost:8080/"
        },
        "id": "gzOzEL04miUx",
        "outputId": "31e98e67-3834-46e2-d04c-a183b9ccd8ca"
      },
      "execution_count": null,
      "outputs": [
        {
          "output_type": "stream",
          "name": "stderr",
          "text": [
            "100%|██████████| 265/265 [03:52<00:00,  1.14it/s]\n",
            "100%|██████████| 33/33 [00:21<00:00,  1.53it/s]\n",
            "100%|██████████| 34/34 [00:42<00:00,  1.24s/it]\n"
          ]
        }
      ]
    },
    {
      "cell_type": "markdown",
      "source": [
        "# Data loading and setup"
      ],
      "metadata": {
        "id": "Jyvsynnlpdsx"
      }
    },
    {
      "cell_type": "code",
      "execution_count": null,
      "metadata": {
        "id": "YCh5Oxy-axf4"
      },
      "outputs": [],
      "source": [
        "class ImageDataset(Dataset):\n",
        "  def __init__(self, data_folder, split=\"train\"):\n",
        "    self.split = split\n",
        "    self.x, self.y = self.load()\n",
        "    print(f\"Loaded {split} data... X: {self.x.shape}, y: {self.y.shape}\")\n",
        "\n",
        "  def __getitem__(self, index):\n",
        "    return self.x[index], self.y[index]\n",
        "\n",
        "  def __len__(self):\n",
        "    return len(self.x)\n",
        "\n",
        "  def load(self):\n",
        "    X_path = f\"/content/drive/MyDrive/ERS/X_{self.split}.pt\"\n",
        "    y_path = f\"/content/drive/MyDrive/ERS/y_{self.split}.pt\"\n",
        "    return torch.load(X_path), torch.load(y_path)"
      ]
    },
    {
      "cell_type": "code",
      "execution_count": null,
      "metadata": {
        "id": "lgPoi7hpaxf5",
        "colab": {
          "base_uri": "https://localhost:8080/"
        },
        "outputId": "955321f1-406a-41b0-f4de-8953a211f175"
      },
      "outputs": [
        {
          "output_type": "stream",
          "name": "stdout",
          "text": [
            "Loaded train data... X: torch.Size([13739, 3, 224, 224]), y: torch.Size([13739, 1])\n",
            "Loaded val data... X: torch.Size([1123, 3, 224, 224]), y: torch.Size([1123, 1])\n",
            "Loaded test data... X: torch.Size([2149, 3, 224, 224]), y: torch.Size([2149, 1])\n"
          ]
        }
      ],
      "source": [
        "X_train = ImageDataset('processed_data', split='train')\n",
        "X_val = ImageDataset('processed_data', split='val')\n",
        "X_test = ImageDataset('processed_data', split='test')"
      ]
    },
    {
      "cell_type": "code",
      "execution_count": null,
      "metadata": {
        "id": "Q2OHuah3axf6"
      },
      "outputs": [],
      "source": [
        "from torch.utils.data import DataLoader\n",
        "B = 32\n",
        "train_dataloader = DataLoader(X_train, batch_size=B, shuffle=True)\n",
        "val_dataloader = DataLoader(X_val, batch_size=256)\n",
        "test_dataloader = DataLoader(X_test, batch_size=256)"
      ]
    },
    {
      "cell_type": "markdown",
      "source": [
        "# Verify Input"
      ],
      "metadata": {
        "id": "0rm-por8pwdo"
      }
    },
    {
      "cell_type": "code",
      "execution_count": null,
      "metadata": {
        "id": "Kr7B8xT1axf6",
        "outputId": "5dea99e0-8b87-4624-c687-5595a8394480",
        "colab": {
          "base_uri": "https://localhost:8080/",
          "height": 304
        }
      },
      "outputs": [
        {
          "output_type": "stream",
          "name": "stderr",
          "text": [
            "WARNING:matplotlib.image:Clipping input data to the valid range for imshow with RGB data ([0..1] for floats or [0..255] for integers).\n"
          ]
        },
        {
          "output_type": "stream",
          "name": "stdout",
          "text": [
            "torch.Size([32, 3, 224, 224])\n"
          ]
        },
        {
          "output_type": "display_data",
          "data": {
            "text/plain": [
              "<Figure size 432x288 with 1 Axes>"
            ],
            "image/png": "[encoded data removed]"
          },
          "metadata": {
            "needs_background": "light"
          }
        }
      ],
      "source": [
        "#visualize dataset with label\n",
        "for i, example in enumerate(train_dataloader):\n",
        "    x, y = example\n",
        "    print(x.shape)\n",
        "    plt.imshow(x[7].permute((1,2,0)))\n",
        "    plt.show()\n",
        "    break"
      ]
    },
    {
      "cell_type": "markdown",
      "source": [
        "# Model Training"
      ],
      "metadata": {
        "id": "bLGrZ1CfAYzV"
      }
    },
    {
      "cell_type": "code",
      "execution_count": null,
      "metadata": {
        "id": "3Z6xu5RGaxf9"
      },
      "outputs": [],
      "source": [
        "device = torch.device('cuda' if torch.cuda.is_available() else 'cpu')\n",
        "model_type = \"baseline\"\n",
        "#model_type = \"pretrained\"\n",
        "experiment = f\"exp1_{model_type}\"\n",
        "os.environ[\"EXP\"] = experiment"
      ]
    },
    {
      "cell_type": "code",
      "execution_count": null,
      "metadata": {
        "id": "oB6ze-nxaxf9"
      },
      "outputs": [],
      "source": [
        "class Classifier(nn.Module):\n",
        "  def __init__(self):\n",
        "    super().__init__()\n",
        "    self.pretrained = models.resnet50(weights=models.ResNet50_Weights.IMAGENET1K_V2)\n",
        "    for param in self.pretrained.parameters():\n",
        "      param.requires_grad = False\n",
        "    self.pretrained.layer4 = nn.Identity()\n",
        "    self.pretrained.avgpool = nn.Sequential(\n",
        "        nn.Conv2d(1024, 256, (3,3), stride=(2,2)),\n",
        "        nn.BatchNorm2d(256),\n",
        "        nn.ReLU(),\n",
        "    )\n",
        "    self.pretrained.fc = nn.Sequential(\n",
        "      nn.Linear(9216, 1),\n",
        "      nn.Sigmoid()\n",
        "    )\n",
        "\n",
        "  def forward(self, x):\n",
        "    x = self.pretrained(x)\n",
        "    return x\n",
        "\n",
        "class Baseline(nn.Module):\n",
        "  def __init__(self):\n",
        "    super().__init__()\n",
        "    self.seq = nn.Sequential(\n",
        "        nn.Conv2d(3, 128, (3,3), stride=(2,2)),\n",
        "        nn.ReLU(),\n",
        "        nn.Conv2d(128, 128, (3,3), stride=(2,2)),\n",
        "        nn.ReLU(),\n",
        "        nn.Conv2d(128, 32, (3,3), stride=(2,2)),\n",
        "        nn.ReLU(),\n",
        "        nn.Flatten(),\n",
        "        nn.Linear(23328, 1),\n",
        "        nn.Sigmoid()\n",
        "    )\n",
        "\n",
        "  def forward(self, x):\n",
        "    return self.seq(x)"
      ]
    },
    {
      "cell_type": "code",
      "source": [
        "model_class = Classifier\n",
        "if model_type == \"baseline\": model_class = Baseline\n",
        "model = model_class().to(device)\n",
        "summary(model, (B, 3, 224, 224))"
      ],
      "metadata": {
        "colab": {
          "base_uri": "https://localhost:8080/"
        },
        "id": "Rv0LgirSEHaz",
        "outputId": "102e799d-2695-4381-b44c-20fa60d1aafd"
      },
      "execution_count": null,
      "outputs": [
        {
          "output_type": "execute_result",
          "data": {
            "text/plain": [
              "==========================================================================================\n",
              "Layer (type:depth-idx)                   Output Shape              Param #\n",
              "==========================================================================================\n",
              "Baseline                                 [32, 1]                   --\n",
              "├─Sequential: 1-1                        [32, 1]                   --\n",
              "│    └─Conv2d: 2-1                       [32, 128, 111, 111]       3,584\n",
              "│    └─ReLU: 2-2                         [32, 128, 111, 111]       --\n",
              "│    └─Conv2d: 2-3                       [32, 128, 55, 55]         147,584\n",
              "│    └─ReLU: 2-4                         [32, 128, 55, 55]         --\n",
              "│    └─Conv2d: 2-5                       [32, 32, 27, 27]          36,896\n",
              "│    └─ReLU: 2-6                         [32, 32, 27, 27]          --\n",
              "│    └─Flatten: 2-7                      [32, 23328]               --\n",
              "│    └─Linear: 2-8                       [32, 1]                   23,329\n",
              "│    └─Sigmoid: 2-9                      [32, 1]                   --\n",
              "==========================================================================================\n",
              "Total params: 211,393\n",
              "Trainable params: 211,393\n",
              "Non-trainable params: 0\n",
              "Total mult-adds (G): 16.56\n",
              "==========================================================================================\n",
              "Input size (MB): 19.27\n",
              "Forward/backward pass size (MB): 508.83\n",
              "Params size (MB): 0.85\n",
              "Estimated Total Size (MB): 528.94\n",
              "=========================================================================================="
            ]
          },
          "metadata": {},
          "execution_count": 243
        }
      ]
    },
    {
      "cell_type": "code",
      "source": [
        "!rm -rf runs"
      ],
      "metadata": {
        "id": "shMOo0X2lHRF"
      },
      "execution_count": null,
      "outputs": []
    },
    {
      "cell_type": "code",
      "source": [
        "from torch.utils.tensorboard import SummaryWriter\n",
        "writer = SummaryWriter(f\"runs/{experiment}\")"
      ],
      "metadata": {
        "id": "fm6PuX_Vbx6p"
      },
      "execution_count": null,
      "outputs": []
    },
    {
      "cell_type": "code",
      "source": [
        "\n",
        "loss_fn = nn.BCELoss()\n",
        "if model_type == \"baseline\":\n",
        "  learning_rate = 0.001\n",
        "  optimizer = optim.Adam(model.parameters(), weight_decay=0.1)\n",
        "else:\n",
        "  learning_rate = 0.001\n",
        "  optimizer = optim.Adam(model.parameters(), weight_decay=0.2)\n",
        "#lr_scheduler = optim.lr_scheduler.StepLR(optimizer, step_size=10)"
      ],
      "metadata": {
        "id": "X-t6n_1O1Irv"
      },
      "execution_count": null,
      "outputs": []
    },
    {
      "cell_type": "code",
      "execution_count": null,
      "metadata": {
        "id": "bXDuTvvIaxf-",
        "colab": {
          "base_uri": "https://localhost:8080/"
        },
        "outputId": "6cf4fc71-5be0-44c1-e0fb-32660ac93999"
      },
      "outputs": [
        {
          "output_type": "stream",
          "name": "stderr",
          "text": [
            "430it [00:05, 81.15it/s]\n",
            "5it [00:00, 16.54it/s]\n"
          ]
        },
        {
          "output_type": "stream",
          "name": "stdout",
          "text": [
            "Epoch 1\n",
            "----------\n",
            "Train Error: 0.3559, Train F1: 0.3212, Val Error: 0.5880, Val F1: 0.0000\n"
          ]
        },
        {
          "output_type": "stream",
          "name": "stderr",
          "text": [
            "430it [00:05, 81.19it/s]\n",
            "5it [00:00, 17.93it/s]\n"
          ]
        },
        {
          "output_type": "stream",
          "name": "stdout",
          "text": [
            "Epoch 2\n",
            "----------\n",
            "Train Error: 0.2890, Train F1: 0.5287, Val Error: 0.5867, Val F1: 0.0000\n"
          ]
        },
        {
          "output_type": "stream",
          "name": "stderr",
          "text": [
            "430it [00:05, 81.09it/s]\n",
            "5it [00:00, 18.03it/s]\n"
          ]
        },
        {
          "output_type": "stream",
          "name": "stdout",
          "text": [
            "Epoch 3\n",
            "----------\n",
            "Train Error: 0.2788, Train F1: 0.5650, Val Error: 0.9499, Val F1: 0.0000\n"
          ]
        },
        {
          "output_type": "stream",
          "name": "stderr",
          "text": [
            "430it [00:05, 81.16it/s]\n",
            "5it [00:00, 18.09it/s]\n"
          ]
        },
        {
          "output_type": "stream",
          "name": "stdout",
          "text": [
            "Epoch 4\n",
            "----------\n",
            "Train Error: 0.2582, Train F1: 0.6083, Val Error: 0.8964, Val F1: 0.0000\n"
          ]
        },
        {
          "output_type": "stream",
          "name": "stderr",
          "text": [
            "430it [00:05, 81.17it/s]\n",
            "5it [00:00, 18.17it/s]\n"
          ]
        },
        {
          "output_type": "stream",
          "name": "stdout",
          "text": [
            "Epoch 5\n",
            "----------\n",
            "Train Error: 0.2450, Train F1: 0.6347, Val Error: 0.6664, Val F1: 0.0000\n"
          ]
        },
        {
          "output_type": "stream",
          "name": "stderr",
          "text": [
            "430it [00:05, 81.56it/s]\n",
            "5it [00:00, 18.10it/s]\n"
          ]
        },
        {
          "output_type": "stream",
          "name": "stdout",
          "text": [
            "Epoch 6\n",
            "----------\n",
            "Train Error: 0.2437, Train F1: 0.6407, Val Error: 0.7609, Val F1: 0.0000\n"
          ]
        },
        {
          "output_type": "stream",
          "name": "stderr",
          "text": [
            "430it [00:05, 81.55it/s]\n",
            "5it [00:00, 17.91it/s]\n"
          ]
        },
        {
          "output_type": "stream",
          "name": "stdout",
          "text": [
            "Epoch 7\n",
            "----------\n",
            "Train Error: 0.2338, Train F1: 0.6556, Val Error: 0.7447, Val F1: 0.0000\n"
          ]
        },
        {
          "output_type": "stream",
          "name": "stderr",
          "text": [
            "430it [00:05, 81.48it/s]\n",
            "5it [00:00, 17.96it/s]\n"
          ]
        },
        {
          "output_type": "stream",
          "name": "stdout",
          "text": [
            "Epoch 8\n",
            "----------\n",
            "Train Error: 0.2383, Train F1: 0.6447, Val Error: 0.6550, Val F1: 0.0000\n"
          ]
        },
        {
          "output_type": "stream",
          "name": "stderr",
          "text": [
            "430it [00:05, 81.68it/s]\n",
            "5it [00:00, 17.76it/s]\n"
          ]
        },
        {
          "output_type": "stream",
          "name": "stdout",
          "text": [
            "Epoch 9\n",
            "----------\n",
            "Train Error: 0.2285, Train F1: 0.6585, Val Error: 0.8627, Val F1: 0.0000\n"
          ]
        },
        {
          "output_type": "stream",
          "name": "stderr",
          "text": [
            "430it [00:05, 81.18it/s]\n",
            "5it [00:00, 18.12it/s]\n"
          ]
        },
        {
          "output_type": "stream",
          "name": "stdout",
          "text": [
            "Epoch 10\n",
            "----------\n",
            "Train Error: 0.2288, Train F1: 0.6711, Val Error: 0.8606, Val F1: 0.0000\n"
          ]
        },
        {
          "output_type": "stream",
          "name": "stderr",
          "text": [
            "430it [00:05, 81.39it/s]\n",
            "5it [00:00, 18.09it/s]\n"
          ]
        },
        {
          "output_type": "stream",
          "name": "stdout",
          "text": [
            "Epoch 11\n",
            "----------\n",
            "Train Error: 0.2242, Train F1: 0.6711, Val Error: 0.7005, Val F1: 0.0000\n"
          ]
        },
        {
          "output_type": "stream",
          "name": "stderr",
          "text": [
            "430it [00:05, 81.47it/s]\n",
            "5it [00:00, 18.14it/s]\n"
          ]
        },
        {
          "output_type": "stream",
          "name": "stdout",
          "text": [
            "Epoch 12\n",
            "----------\n",
            "Train Error: 0.2302, Train F1: 0.6582, Val Error: 0.8424, Val F1: 0.0000\n"
          ]
        },
        {
          "output_type": "stream",
          "name": "stderr",
          "text": [
            "430it [00:05, 81.52it/s]\n",
            "5it [00:00, 17.97it/s]\n"
          ]
        },
        {
          "output_type": "stream",
          "name": "stdout",
          "text": [
            "Epoch 13\n",
            "----------\n",
            "Train Error: 0.2172, Train F1: 0.6937, Val Error: 0.8432, Val F1: 0.0000\n"
          ]
        },
        {
          "output_type": "stream",
          "name": "stderr",
          "text": [
            "430it [00:05, 81.28it/s]\n",
            "5it [00:00, 18.12it/s]\n"
          ]
        },
        {
          "output_type": "stream",
          "name": "stdout",
          "text": [
            "Epoch 14\n",
            "----------\n",
            "Train Error: 0.2247, Train F1: 0.6792, Val Error: 0.7253, Val F1: 0.0000\n"
          ]
        },
        {
          "output_type": "stream",
          "name": "stderr",
          "text": [
            "430it [00:05, 80.90it/s]\n",
            "5it [00:00, 17.78it/s]\n"
          ]
        },
        {
          "output_type": "stream",
          "name": "stdout",
          "text": [
            "Epoch 15\n",
            "----------\n",
            "Train Error: 0.2194, Train F1: 0.6893, Val Error: 0.6725, Val F1: 0.0000\n"
          ]
        },
        {
          "output_type": "stream",
          "name": "stderr",
          "text": [
            "430it [00:05, 81.43it/s]\n",
            "5it [00:00, 17.93it/s]\n"
          ]
        },
        {
          "output_type": "stream",
          "name": "stdout",
          "text": [
            "Epoch 16\n",
            "----------\n",
            "Train Error: 0.2211, Train F1: 0.6813, Val Error: 0.8180, Val F1: 0.0000\n"
          ]
        },
        {
          "output_type": "stream",
          "name": "stderr",
          "text": [
            "430it [00:05, 81.55it/s]\n",
            "5it [00:00, 18.05it/s]\n"
          ]
        },
        {
          "output_type": "stream",
          "name": "stdout",
          "text": [
            "Epoch 17\n",
            "----------\n",
            "Train Error: 0.2169, Train F1: 0.6889, Val Error: 0.7915, Val F1: 0.0000\n"
          ]
        },
        {
          "output_type": "stream",
          "name": "stderr",
          "text": [
            "430it [00:05, 80.71it/s]\n",
            "5it [00:00, 17.98it/s]\n"
          ]
        },
        {
          "output_type": "stream",
          "name": "stdout",
          "text": [
            "Epoch 18\n",
            "----------\n",
            "Train Error: 0.2107, Train F1: 0.7039, Val Error: 0.6721, Val F1: 0.0000\n"
          ]
        },
        {
          "output_type": "stream",
          "name": "stderr",
          "text": [
            "430it [00:05, 81.66it/s]\n",
            "5it [00:00, 17.98it/s]\n"
          ]
        },
        {
          "output_type": "stream",
          "name": "stdout",
          "text": [
            "Epoch 19\n",
            "----------\n",
            "Train Error: 0.2101, Train F1: 0.7040, Val Error: 0.8775, Val F1: 0.0000\n"
          ]
        },
        {
          "output_type": "stream",
          "name": "stderr",
          "text": [
            "430it [00:05, 81.72it/s]\n",
            "5it [00:00, 17.80it/s]\n"
          ]
        },
        {
          "output_type": "stream",
          "name": "stdout",
          "text": [
            "Epoch 20\n",
            "----------\n",
            "Train Error: 0.2130, Train F1: 0.6888, Val Error: 0.8434, Val F1: 0.0000\n"
          ]
        },
        {
          "output_type": "stream",
          "name": "stderr",
          "text": [
            "430it [00:05, 81.58it/s]\n",
            "5it [00:00, 17.89it/s]\n"
          ]
        },
        {
          "output_type": "stream",
          "name": "stdout",
          "text": [
            "Epoch 21\n",
            "----------\n",
            "Train Error: 0.2155, Train F1: 0.6866, Val Error: 0.8433, Val F1: 0.0000\n"
          ]
        },
        {
          "output_type": "stream",
          "name": "stderr",
          "text": [
            "430it [00:05, 81.43it/s]\n",
            "5it [00:00, 18.02it/s]\n"
          ]
        },
        {
          "output_type": "stream",
          "name": "stdout",
          "text": [
            "Epoch 22\n",
            "----------\n",
            "Train Error: 0.2112, Train F1: 0.7038, Val Error: 0.7358, Val F1: 0.0000\n"
          ]
        },
        {
          "output_type": "stream",
          "name": "stderr",
          "text": [
            "430it [00:05, 81.77it/s]\n",
            "5it [00:00, 18.04it/s]\n"
          ]
        },
        {
          "output_type": "stream",
          "name": "stdout",
          "text": [
            "Epoch 23\n",
            "----------\n",
            "Train Error: 0.2139, Train F1: 0.6965, Val Error: 0.8745, Val F1: 0.0000\n"
          ]
        },
        {
          "output_type": "stream",
          "name": "stderr",
          "text": [
            "430it [00:05, 80.91it/s]\n",
            "5it [00:00, 17.87it/s]\n"
          ]
        },
        {
          "output_type": "stream",
          "name": "stdout",
          "text": [
            "Epoch 24\n",
            "----------\n",
            "Train Error: 0.2129, Train F1: 0.6948, Val Error: 0.8724, Val F1: 0.0000\n"
          ]
        },
        {
          "output_type": "stream",
          "name": "stderr",
          "text": [
            "430it [00:05, 81.47it/s]\n",
            "5it [00:00, 17.86it/s]\n"
          ]
        },
        {
          "output_type": "stream",
          "name": "stdout",
          "text": [
            "Epoch 25\n",
            "----------\n",
            "Train Error: 0.2024, Train F1: 0.7068, Val Error: 0.8213, Val F1: 0.0000\n"
          ]
        },
        {
          "output_type": "stream",
          "name": "stderr",
          "text": [
            "430it [00:05, 81.23it/s]\n",
            "5it [00:00, 18.05it/s]\n"
          ]
        },
        {
          "output_type": "stream",
          "name": "stdout",
          "text": [
            "Epoch 26\n",
            "----------\n",
            "Train Error: 0.2072, Train F1: 0.7053, Val Error: 0.8293, Val F1: 0.0000\n"
          ]
        },
        {
          "output_type": "stream",
          "name": "stderr",
          "text": [
            "430it [00:05, 81.31it/s]\n",
            "5it [00:00, 17.90it/s]\n"
          ]
        },
        {
          "output_type": "stream",
          "name": "stdout",
          "text": [
            "Epoch 27\n",
            "----------\n",
            "Train Error: 0.2113, Train F1: 0.7046, Val Error: 0.9362, Val F1: 0.0184\n"
          ]
        },
        {
          "output_type": "stream",
          "name": "stderr",
          "text": [
            "430it [00:05, 81.68it/s]\n",
            "5it [00:00, 18.00it/s]\n"
          ]
        },
        {
          "output_type": "stream",
          "name": "stdout",
          "text": [
            "Epoch 28\n",
            "----------\n",
            "Train Error: 0.2045, Train F1: 0.7096, Val Error: 0.8095, Val F1: 0.0000\n"
          ]
        },
        {
          "output_type": "stream",
          "name": "stderr",
          "text": [
            "430it [00:05, 81.19it/s]\n",
            "5it [00:00, 17.92it/s]\n"
          ]
        },
        {
          "output_type": "stream",
          "name": "stdout",
          "text": [
            "Epoch 29\n",
            "----------\n",
            "Train Error: 0.2062, Train F1: 0.7118, Val Error: 0.7463, Val F1: 0.0000\n"
          ]
        },
        {
          "output_type": "stream",
          "name": "stderr",
          "text": [
            "430it [00:05, 81.39it/s]\n",
            "5it [00:00, 17.97it/s]\n"
          ]
        },
        {
          "output_type": "stream",
          "name": "stdout",
          "text": [
            "Epoch 30\n",
            "----------\n",
            "Train Error: 0.2064, Train F1: 0.7071, Val Error: 0.7938, Val F1: 0.0000\n"
          ]
        },
        {
          "output_type": "stream",
          "name": "stderr",
          "text": [
            "430it [00:05, 81.55it/s]\n",
            "5it [00:00, 18.03it/s]\n"
          ]
        },
        {
          "output_type": "stream",
          "name": "stdout",
          "text": [
            "Epoch 31\n",
            "----------\n",
            "Train Error: 0.2081, Train F1: 0.7052, Val Error: 0.7664, Val F1: 0.0000\n"
          ]
        },
        {
          "output_type": "stream",
          "name": "stderr",
          "text": [
            "430it [00:05, 81.99it/s]\n",
            "5it [00:00, 18.15it/s]\n"
          ]
        },
        {
          "output_type": "stream",
          "name": "stdout",
          "text": [
            "Epoch 32\n",
            "----------\n",
            "Train Error: 0.2006, Train F1: 0.7206, Val Error: 0.7423, Val F1: 0.0000\n"
          ]
        },
        {
          "output_type": "stream",
          "name": "stderr",
          "text": [
            "430it [00:05, 81.48it/s]\n",
            "5it [00:00, 17.70it/s]\n"
          ]
        },
        {
          "output_type": "stream",
          "name": "stdout",
          "text": [
            "Epoch 33\n",
            "----------\n",
            "Train Error: 0.1946, Train F1: 0.7314, Val Error: 0.8453, Val F1: 0.0000\n"
          ]
        },
        {
          "output_type": "stream",
          "name": "stderr",
          "text": [
            "430it [00:05, 81.77it/s]\n",
            "5it [00:00, 18.09it/s]\n"
          ]
        },
        {
          "output_type": "stream",
          "name": "stdout",
          "text": [
            "Epoch 34\n",
            "----------\n",
            "Train Error: 0.2024, Train F1: 0.7160, Val Error: 0.8766, Val F1: 0.0000\n"
          ]
        },
        {
          "output_type": "stream",
          "name": "stderr",
          "text": [
            "430it [00:05, 80.78it/s]\n",
            "5it [00:00, 17.93it/s]\n"
          ]
        },
        {
          "output_type": "stream",
          "name": "stdout",
          "text": [
            "Epoch 35\n",
            "----------\n",
            "Train Error: 0.1950, Train F1: 0.7239, Val Error: 0.7911, Val F1: 0.0000\n"
          ]
        },
        {
          "output_type": "stream",
          "name": "stderr",
          "text": [
            "430it [00:05, 81.53it/s]\n",
            "5it [00:00, 17.63it/s]\n"
          ]
        },
        {
          "output_type": "stream",
          "name": "stdout",
          "text": [
            "Epoch 36\n",
            "----------\n",
            "Train Error: 0.2019, Train F1: 0.7177, Val Error: 0.7729, Val F1: 0.0000\n"
          ]
        },
        {
          "output_type": "stream",
          "name": "stderr",
          "text": [
            "430it [00:05, 81.07it/s]\n",
            "5it [00:00, 18.20it/s]\n"
          ]
        },
        {
          "output_type": "stream",
          "name": "stdout",
          "text": [
            "Epoch 37\n",
            "----------\n",
            "Train Error: 0.2000, Train F1: 0.7242, Val Error: 0.8301, Val F1: 0.0000\n"
          ]
        },
        {
          "output_type": "stream",
          "name": "stderr",
          "text": [
            "430it [00:05, 81.66it/s]\n",
            "5it [00:00, 18.22it/s]\n"
          ]
        },
        {
          "output_type": "stream",
          "name": "stdout",
          "text": [
            "Epoch 38\n",
            "----------\n",
            "Train Error: 0.2030, Train F1: 0.7152, Val Error: 0.7922, Val F1: 0.0052\n"
          ]
        },
        {
          "output_type": "stream",
          "name": "stderr",
          "text": [
            "430it [00:05, 81.87it/s]\n",
            "5it [00:00, 17.96it/s]\n"
          ]
        },
        {
          "output_type": "stream",
          "name": "stdout",
          "text": [
            "Epoch 39\n",
            "----------\n",
            "Train Error: 0.2060, Train F1: 0.7191, Val Error: 0.7781, Val F1: 0.0000\n"
          ]
        },
        {
          "output_type": "stream",
          "name": "stderr",
          "text": [
            "430it [00:05, 81.41it/s]\n",
            "5it [00:00, 18.05it/s]\n"
          ]
        },
        {
          "output_type": "stream",
          "name": "stdout",
          "text": [
            "Epoch 40\n",
            "----------\n",
            "Train Error: 0.1963, Train F1: 0.7297, Val Error: 0.8003, Val F1: 0.0000\n"
          ]
        },
        {
          "output_type": "stream",
          "name": "stderr",
          "text": [
            "430it [00:05, 81.59it/s]\n",
            "5it [00:00, 17.58it/s]\n"
          ]
        },
        {
          "output_type": "stream",
          "name": "stdout",
          "text": [
            "Epoch 41\n",
            "----------\n",
            "Train Error: 0.2038, Train F1: 0.7214, Val Error: 0.7502, Val F1: 0.0000\n"
          ]
        },
        {
          "output_type": "stream",
          "name": "stderr",
          "text": [
            "430it [00:05, 81.06it/s]\n",
            "5it [00:00, 18.24it/s]\n"
          ]
        },
        {
          "output_type": "stream",
          "name": "stdout",
          "text": [
            "Epoch 42\n",
            "----------\n",
            "Train Error: 0.1943, Train F1: 0.7276, Val Error: 0.7644, Val F1: 0.0000\n"
          ]
        },
        {
          "output_type": "stream",
          "name": "stderr",
          "text": [
            "430it [00:05, 81.48it/s]\n",
            "5it [00:00, 17.96it/s]\n"
          ]
        },
        {
          "output_type": "stream",
          "name": "stdout",
          "text": [
            "Epoch 43\n",
            "----------\n",
            "Train Error: 0.1943, Train F1: 0.7429, Val Error: 0.7899, Val F1: 0.0000\n"
          ]
        },
        {
          "output_type": "stream",
          "name": "stderr",
          "text": [
            "430it [00:05, 81.32it/s]\n",
            "5it [00:00, 17.98it/s]\n"
          ]
        },
        {
          "output_type": "stream",
          "name": "stdout",
          "text": [
            "Epoch 44\n",
            "----------\n",
            "Train Error: 0.1970, Train F1: 0.7241, Val Error: 0.8256, Val F1: 0.0000\n"
          ]
        },
        {
          "output_type": "stream",
          "name": "stderr",
          "text": [
            "430it [00:05, 81.59it/s]\n",
            "5it [00:00, 17.95it/s]\n"
          ]
        },
        {
          "output_type": "stream",
          "name": "stdout",
          "text": [
            "Epoch 45\n",
            "----------\n",
            "Train Error: 0.1984, Train F1: 0.7248, Val Error: 0.9809, Val F1: 0.0000\n"
          ]
        },
        {
          "output_type": "stream",
          "name": "stderr",
          "text": [
            "430it [00:05, 81.33it/s]\n",
            "5it [00:00, 18.00it/s]\n"
          ]
        },
        {
          "output_type": "stream",
          "name": "stdout",
          "text": [
            "Epoch 46\n",
            "----------\n",
            "Train Error: 0.1877, Train F1: 0.7407, Val Error: 0.8888, Val F1: 0.0613\n"
          ]
        },
        {
          "output_type": "stream",
          "name": "stderr",
          "text": [
            "430it [00:05, 81.83it/s]\n",
            "5it [00:00, 17.89it/s]\n"
          ]
        },
        {
          "output_type": "stream",
          "name": "stdout",
          "text": [
            "Epoch 47\n",
            "----------\n",
            "Train Error: 0.1912, Train F1: 0.7376, Val Error: 0.8367, Val F1: 0.0060\n"
          ]
        },
        {
          "output_type": "stream",
          "name": "stderr",
          "text": [
            "430it [00:05, 81.03it/s]\n",
            "5it [00:00, 18.08it/s]\n"
          ]
        },
        {
          "output_type": "stream",
          "name": "stdout",
          "text": [
            "Epoch 48\n",
            "----------\n",
            "Train Error: 0.1857, Train F1: 0.7481, Val Error: 0.8686, Val F1: 0.0000\n"
          ]
        },
        {
          "output_type": "stream",
          "name": "stderr",
          "text": [
            "430it [00:05, 81.17it/s]\n",
            "5it [00:00, 17.83it/s]\n"
          ]
        },
        {
          "output_type": "stream",
          "name": "stdout",
          "text": [
            "Epoch 49\n",
            "----------\n",
            "Train Error: 0.1941, Train F1: 0.7344, Val Error: 0.8776, Val F1: 0.0000\n"
          ]
        },
        {
          "output_type": "stream",
          "name": "stderr",
          "text": [
            "430it [00:05, 81.88it/s]\n",
            "5it [00:00, 18.01it/s]\n"
          ]
        },
        {
          "output_type": "stream",
          "name": "stdout",
          "text": [
            "Epoch 50\n",
            "----------\n",
            "Train Error: 0.1957, Train F1: 0.7285, Val Error: 0.7158, Val F1: 0.0000\n"
          ]
        },
        {
          "output_type": "stream",
          "name": "stderr",
          "text": [
            "430it [00:05, 81.39it/s]\n",
            "5it [00:00, 17.86it/s]\n"
          ]
        },
        {
          "output_type": "stream",
          "name": "stdout",
          "text": [
            "Epoch 51\n",
            "----------\n",
            "Train Error: 0.1872, Train F1: 0.7475, Val Error: 0.8901, Val F1: 0.0000\n"
          ]
        },
        {
          "output_type": "stream",
          "name": "stderr",
          "text": [
            "430it [00:05, 81.31it/s]\n",
            "5it [00:00, 17.79it/s]\n"
          ]
        },
        {
          "output_type": "stream",
          "name": "stdout",
          "text": [
            "Epoch 52\n",
            "----------\n",
            "Train Error: 0.1775, Train F1: 0.7595, Val Error: 0.8550, Val F1: 0.0000\n"
          ]
        },
        {
          "output_type": "stream",
          "name": "stderr",
          "text": [
            "430it [00:05, 81.76it/s]\n",
            "5it [00:00, 18.06it/s]\n"
          ]
        },
        {
          "output_type": "stream",
          "name": "stdout",
          "text": [
            "Epoch 53\n",
            "----------\n",
            "Train Error: 0.1928, Train F1: 0.7340, Val Error: 0.6935, Val F1: 0.0000\n"
          ]
        },
        {
          "output_type": "stream",
          "name": "stderr",
          "text": [
            "430it [00:05, 81.57it/s]\n",
            "5it [00:00, 18.10it/s]\n"
          ]
        },
        {
          "output_type": "stream",
          "name": "stdout",
          "text": [
            "Epoch 54\n",
            "----------\n",
            "Train Error: 0.1851, Train F1: 0.7451, Val Error: 0.8754, Val F1: 0.0693\n"
          ]
        },
        {
          "output_type": "stream",
          "name": "stderr",
          "text": [
            "430it [00:05, 81.46it/s]\n",
            "5it [00:00, 17.99it/s]\n"
          ]
        },
        {
          "output_type": "stream",
          "name": "stdout",
          "text": [
            "Epoch 55\n",
            "----------\n",
            "Train Error: 0.1776, Train F1: 0.7584, Val Error: 0.7357, Val F1: 0.0000\n"
          ]
        },
        {
          "output_type": "stream",
          "name": "stderr",
          "text": [
            "430it [00:05, 80.81it/s]\n",
            "5it [00:00, 17.78it/s]\n"
          ]
        },
        {
          "output_type": "stream",
          "name": "stdout",
          "text": [
            "Epoch 56\n",
            "----------\n",
            "Train Error: 0.1810, Train F1: 0.7557, Val Error: 0.7556, Val F1: 0.0000\n"
          ]
        },
        {
          "output_type": "stream",
          "name": "stderr",
          "text": [
            "430it [00:05, 80.87it/s]\n",
            "5it [00:00, 17.83it/s]\n"
          ]
        },
        {
          "output_type": "stream",
          "name": "stdout",
          "text": [
            "Epoch 57\n",
            "----------\n",
            "Train Error: 0.1751, Train F1: 0.7687, Val Error: 0.7692, Val F1: 0.0000\n"
          ]
        },
        {
          "output_type": "stream",
          "name": "stderr",
          "text": [
            "430it [00:05, 81.37it/s]\n",
            "5it [00:00, 17.69it/s]\n"
          ]
        },
        {
          "output_type": "stream",
          "name": "stdout",
          "text": [
            "Epoch 58\n",
            "----------\n",
            "Train Error: 0.1878, Train F1: 0.7469, Val Error: 0.8262, Val F1: 0.0000\n"
          ]
        },
        {
          "output_type": "stream",
          "name": "stderr",
          "text": [
            "430it [00:05, 81.13it/s]\n",
            "5it [00:00, 18.12it/s]\n"
          ]
        },
        {
          "output_type": "stream",
          "name": "stdout",
          "text": [
            "Epoch 59\n",
            "----------\n",
            "Train Error: 0.1811, Train F1: 0.7548, Val Error: 0.7806, Val F1: 0.0000\n"
          ]
        },
        {
          "output_type": "stream",
          "name": "stderr",
          "text": [
            "430it [00:05, 81.22it/s]\n",
            "5it [00:00, 17.99it/s]\n"
          ]
        },
        {
          "output_type": "stream",
          "name": "stdout",
          "text": [
            "Epoch 60\n",
            "----------\n",
            "Train Error: 0.1753, Train F1: 0.7706, Val Error: 0.7775, Val F1: 0.0000\n"
          ]
        },
        {
          "output_type": "stream",
          "name": "stderr",
          "text": [
            "430it [00:05, 81.19it/s]\n",
            "5it [00:00, 18.20it/s]\n"
          ]
        },
        {
          "output_type": "stream",
          "name": "stdout",
          "text": [
            "Epoch 61\n",
            "----------\n",
            "Train Error: 0.1806, Train F1: 0.7538, Val Error: 0.8764, Val F1: 0.0000\n"
          ]
        },
        {
          "output_type": "stream",
          "name": "stderr",
          "text": [
            "430it [00:05, 81.80it/s]\n",
            "5it [00:00, 18.02it/s]\n"
          ]
        },
        {
          "output_type": "stream",
          "name": "stdout",
          "text": [
            "Epoch 62\n",
            "----------\n",
            "Train Error: 0.1760, Train F1: 0.7621, Val Error: 0.7760, Val F1: 0.0000\n"
          ]
        },
        {
          "output_type": "stream",
          "name": "stderr",
          "text": [
            "430it [00:05, 81.61it/s]\n",
            "5it [00:00, 18.25it/s]\n"
          ]
        },
        {
          "output_type": "stream",
          "name": "stdout",
          "text": [
            "Epoch 63\n",
            "----------\n",
            "Train Error: 0.1757, Train F1: 0.7659, Val Error: 0.9035, Val F1: 0.0000\n"
          ]
        },
        {
          "output_type": "stream",
          "name": "stderr",
          "text": [
            "430it [00:05, 81.74it/s]\n",
            "5it [00:00, 18.08it/s]\n"
          ]
        },
        {
          "output_type": "stream",
          "name": "stdout",
          "text": [
            "Epoch 64\n",
            "----------\n",
            "Train Error: 0.1757, Train F1: 0.7635, Val Error: 0.7627, Val F1: 0.0000\n"
          ]
        },
        {
          "output_type": "stream",
          "name": "stderr",
          "text": [
            "430it [00:05, 80.97it/s]\n",
            "5it [00:00, 17.87it/s]\n"
          ]
        },
        {
          "output_type": "stream",
          "name": "stdout",
          "text": [
            "Epoch 65\n",
            "----------\n",
            "Train Error: 0.1762, Train F1: 0.7561, Val Error: 0.8287, Val F1: 0.0000\n"
          ]
        },
        {
          "output_type": "stream",
          "name": "stderr",
          "text": [
            "430it [00:05, 81.55it/s]\n",
            "5it [00:00, 11.12it/s]\n"
          ]
        },
        {
          "output_type": "stream",
          "name": "stdout",
          "text": [
            "Epoch 66\n",
            "----------\n",
            "Train Error: 0.1756, Train F1: 0.7607, Val Error: 0.7494, Val F1: 0.0000\n"
          ]
        },
        {
          "output_type": "stream",
          "name": "stderr",
          "text": [
            "430it [00:05, 80.84it/s]\n",
            "5it [00:00, 17.85it/s]\n"
          ]
        },
        {
          "output_type": "stream",
          "name": "stdout",
          "text": [
            "Epoch 67\n",
            "----------\n",
            "Train Error: 0.1781, Train F1: 0.7626, Val Error: 0.7679, Val F1: 0.0000\n"
          ]
        },
        {
          "output_type": "stream",
          "name": "stderr",
          "text": [
            "430it [00:05, 81.43it/s]\n",
            "5it [00:00, 17.85it/s]\n"
          ]
        },
        {
          "output_type": "stream",
          "name": "stdout",
          "text": [
            "Epoch 68\n",
            "----------\n",
            "Train Error: 0.1759, Train F1: 0.7651, Val Error: 0.7976, Val F1: 0.0000\n"
          ]
        },
        {
          "output_type": "stream",
          "name": "stderr",
          "text": [
            "430it [00:05, 81.17it/s]\n",
            "5it [00:00, 18.10it/s]\n"
          ]
        },
        {
          "output_type": "stream",
          "name": "stdout",
          "text": [
            "Epoch 69\n",
            "----------\n",
            "Train Error: 0.1753, Train F1: 0.7649, Val Error: 0.7806, Val F1: 0.0000\n"
          ]
        },
        {
          "output_type": "stream",
          "name": "stderr",
          "text": [
            "430it [00:05, 81.53it/s]\n",
            "5it [00:00, 17.90it/s]\n"
          ]
        },
        {
          "output_type": "stream",
          "name": "stdout",
          "text": [
            "Epoch 70\n",
            "----------\n",
            "Train Error: 0.1713, Train F1: 0.7725, Val Error: 0.8081, Val F1: 0.0255\n"
          ]
        },
        {
          "output_type": "stream",
          "name": "stderr",
          "text": [
            "430it [00:05, 81.31it/s]\n",
            "5it [00:00, 17.99it/s]\n"
          ]
        },
        {
          "output_type": "stream",
          "name": "stdout",
          "text": [
            "Epoch 71\n",
            "----------\n",
            "Train Error: 0.1747, Train F1: 0.7701, Val Error: 0.8853, Val F1: 0.0000\n"
          ]
        },
        {
          "output_type": "stream",
          "name": "stderr",
          "text": [
            "430it [00:05, 81.54it/s]\n",
            "5it [00:00, 17.93it/s]\n"
          ]
        },
        {
          "output_type": "stream",
          "name": "stdout",
          "text": [
            "Epoch 72\n",
            "----------\n",
            "Train Error: 0.1725, Train F1: 0.7726, Val Error: 0.9898, Val F1: 0.0168\n"
          ]
        },
        {
          "output_type": "stream",
          "name": "stderr",
          "text": [
            "430it [00:05, 81.63it/s]\n",
            "5it [00:00, 18.36it/s]\n"
          ]
        },
        {
          "output_type": "stream",
          "name": "stdout",
          "text": [
            "Epoch 73\n",
            "----------\n",
            "Train Error: 0.1752, Train F1: 0.7632, Val Error: 0.7735, Val F1: 0.0055\n"
          ]
        },
        {
          "output_type": "stream",
          "name": "stderr",
          "text": [
            "430it [00:05, 81.14it/s]\n",
            "5it [00:00, 18.15it/s]\n"
          ]
        },
        {
          "output_type": "stream",
          "name": "stdout",
          "text": [
            "Epoch 74\n",
            "----------\n",
            "Train Error: 0.1658, Train F1: 0.7847, Val Error: 0.7342, Val F1: 0.0000\n"
          ]
        },
        {
          "output_type": "stream",
          "name": "stderr",
          "text": [
            "430it [00:05, 81.19it/s]\n",
            "5it [00:00, 17.93it/s]\n"
          ]
        },
        {
          "output_type": "stream",
          "name": "stdout",
          "text": [
            "Epoch 75\n",
            "----------\n",
            "Train Error: 0.1733, Train F1: 0.7748, Val Error: 0.7440, Val F1: 0.0086\n"
          ]
        },
        {
          "output_type": "stream",
          "name": "stderr",
          "text": [
            "430it [00:05, 81.25it/s]\n",
            "5it [00:00, 17.69it/s]\n"
          ]
        },
        {
          "output_type": "stream",
          "name": "stdout",
          "text": [
            "Epoch 76\n",
            "----------\n",
            "Train Error: 0.1758, Train F1: 0.7587, Val Error: 0.7562, Val F1: 0.0124\n"
          ]
        },
        {
          "output_type": "stream",
          "name": "stderr",
          "text": [
            "430it [00:05, 81.47it/s]\n",
            "5it [00:00, 18.13it/s]\n"
          ]
        },
        {
          "output_type": "stream",
          "name": "stdout",
          "text": [
            "Epoch 77\n",
            "----------\n",
            "Train Error: 0.1683, Train F1: 0.7820, Val Error: 0.8099, Val F1: 0.0000\n"
          ]
        },
        {
          "output_type": "stream",
          "name": "stderr",
          "text": [
            "430it [00:05, 80.82it/s]\n",
            "5it [00:00, 18.02it/s]\n"
          ]
        },
        {
          "output_type": "stream",
          "name": "stdout",
          "text": [
            "Epoch 78\n",
            "----------\n",
            "Train Error: 0.1607, Train F1: 0.7992, Val Error: 0.8332, Val F1: 0.0418\n"
          ]
        },
        {
          "output_type": "stream",
          "name": "stderr",
          "text": [
            "430it [00:05, 81.59it/s]\n",
            "5it [00:00, 18.10it/s]\n"
          ]
        },
        {
          "output_type": "stream",
          "name": "stdout",
          "text": [
            "Epoch 79\n",
            "----------\n",
            "Train Error: 0.1643, Train F1: 0.7855, Val Error: 0.8414, Val F1: 0.0000\n"
          ]
        },
        {
          "output_type": "stream",
          "name": "stderr",
          "text": [
            "430it [00:05, 81.07it/s]\n",
            "5it [00:00, 18.10it/s]\n"
          ]
        },
        {
          "output_type": "stream",
          "name": "stdout",
          "text": [
            "Epoch 80\n",
            "----------\n",
            "Train Error: 0.1676, Train F1: 0.7872, Val Error: 0.8503, Val F1: 0.0000\n"
          ]
        },
        {
          "output_type": "stream",
          "name": "stderr",
          "text": [
            "430it [00:05, 81.63it/s]\n",
            "5it [00:00, 18.10it/s]\n"
          ]
        },
        {
          "output_type": "stream",
          "name": "stdout",
          "text": [
            "Epoch 81\n",
            "----------\n",
            "Train Error: 0.1675, Train F1: 0.7875, Val Error: 0.8109, Val F1: 0.0000\n"
          ]
        },
        {
          "output_type": "stream",
          "name": "stderr",
          "text": [
            "430it [00:05, 81.47it/s]\n",
            "5it [00:00, 18.05it/s]\n"
          ]
        },
        {
          "output_type": "stream",
          "name": "stdout",
          "text": [
            "Epoch 82\n",
            "----------\n",
            "Train Error: 0.1574, Train F1: 0.7998, Val Error: 0.7105, Val F1: 0.0095\n"
          ]
        },
        {
          "output_type": "stream",
          "name": "stderr",
          "text": [
            "430it [00:05, 82.10it/s]\n",
            "5it [00:00, 18.08it/s]\n"
          ]
        },
        {
          "output_type": "stream",
          "name": "stdout",
          "text": [
            "Epoch 83\n",
            "----------\n",
            "Train Error: 0.1579, Train F1: 0.7952, Val Error: 0.8508, Val F1: 0.0000\n"
          ]
        },
        {
          "output_type": "stream",
          "name": "stderr",
          "text": [
            "430it [00:05, 81.60it/s]\n",
            "5it [00:00, 18.05it/s]\n"
          ]
        },
        {
          "output_type": "stream",
          "name": "stdout",
          "text": [
            "Epoch 84\n",
            "----------\n",
            "Train Error: 0.1631, Train F1: 0.7893, Val Error: 0.7739, Val F1: 0.0579\n"
          ]
        },
        {
          "output_type": "stream",
          "name": "stderr",
          "text": [
            "430it [00:05, 81.75it/s]\n",
            "5it [00:00, 17.96it/s]\n"
          ]
        },
        {
          "output_type": "stream",
          "name": "stdout",
          "text": [
            "Epoch 85\n",
            "----------\n",
            "Train Error: 0.1555, Train F1: 0.8080, Val Error: 0.7908, Val F1: 0.0000\n"
          ]
        },
        {
          "output_type": "stream",
          "name": "stderr",
          "text": [
            "430it [00:05, 81.92it/s]\n",
            "5it [00:00, 17.69it/s]\n"
          ]
        },
        {
          "output_type": "stream",
          "name": "stdout",
          "text": [
            "Epoch 86\n",
            "----------\n",
            "Train Error: 0.1530, Train F1: 0.8090, Val Error: 0.6423, Val F1: 0.0000\n"
          ]
        },
        {
          "output_type": "stream",
          "name": "stderr",
          "text": [
            "430it [00:05, 81.10it/s]\n",
            "5it [00:00, 17.89it/s]\n"
          ]
        },
        {
          "output_type": "stream",
          "name": "stdout",
          "text": [
            "Epoch 87\n",
            "----------\n",
            "Train Error: 0.1540, Train F1: 0.8080, Val Error: 0.7016, Val F1: 0.1364\n"
          ]
        },
        {
          "output_type": "stream",
          "name": "stderr",
          "text": [
            "430it [00:05, 81.54it/s]\n",
            "5it [00:00, 17.75it/s]\n"
          ]
        },
        {
          "output_type": "stream",
          "name": "stdout",
          "text": [
            "Epoch 88\n",
            "----------\n",
            "Train Error: 0.1513, Train F1: 0.8135, Val Error: 0.6992, Val F1: 0.0000\n"
          ]
        },
        {
          "output_type": "stream",
          "name": "stderr",
          "text": [
            "430it [00:05, 80.49it/s]\n",
            "5it [00:00, 17.89it/s]\n"
          ]
        },
        {
          "output_type": "stream",
          "name": "stdout",
          "text": [
            "Epoch 89\n",
            "----------\n",
            "Train Error: 0.1542, Train F1: 0.8052, Val Error: 0.6929, Val F1: 0.0562\n"
          ]
        },
        {
          "output_type": "stream",
          "name": "stderr",
          "text": [
            "430it [00:05, 81.21it/s]\n",
            "5it [00:00, 17.76it/s]\n"
          ]
        },
        {
          "output_type": "stream",
          "name": "stdout",
          "text": [
            "Epoch 90\n",
            "----------\n",
            "Train Error: 0.1458, Train F1: 0.8146, Val Error: 0.7408, Val F1: 0.1405\n"
          ]
        },
        {
          "output_type": "stream",
          "name": "stderr",
          "text": [
            "430it [00:05, 81.11it/s]\n",
            "5it [00:00, 18.20it/s]\n"
          ]
        },
        {
          "output_type": "stream",
          "name": "stdout",
          "text": [
            "Epoch 91\n",
            "----------\n",
            "Train Error: 0.1501, Train F1: 0.8088, Val Error: 0.6582, Val F1: 0.0949\n"
          ]
        },
        {
          "output_type": "stream",
          "name": "stderr",
          "text": [
            "430it [00:05, 81.99it/s]\n",
            "5it [00:00, 18.07it/s]\n"
          ]
        },
        {
          "output_type": "stream",
          "name": "stdout",
          "text": [
            "Epoch 92\n",
            "----------\n",
            "Train Error: 0.1484, Train F1: 0.8145, Val Error: 0.6882, Val F1: 0.1720\n"
          ]
        },
        {
          "output_type": "stream",
          "name": "stderr",
          "text": [
            "430it [00:05, 80.45it/s]\n",
            "5it [00:00, 17.41it/s]\n"
          ]
        },
        {
          "output_type": "stream",
          "name": "stdout",
          "text": [
            "Epoch 93\n",
            "----------\n",
            "Train Error: 0.1524, Train F1: 0.8119, Val Error: 0.6843, Val F1: 0.0114\n"
          ]
        },
        {
          "output_type": "stream",
          "name": "stderr",
          "text": [
            "430it [00:05, 80.89it/s]\n",
            "5it [00:00, 17.95it/s]\n"
          ]
        },
        {
          "output_type": "stream",
          "name": "stdout",
          "text": [
            "Epoch 94\n",
            "----------\n",
            "Train Error: 0.1539, Train F1: 0.8092, Val Error: 0.8200, Val F1: 0.0097\n"
          ]
        },
        {
          "output_type": "stream",
          "name": "stderr",
          "text": [
            "430it [00:05, 81.46it/s]\n",
            "5it [00:00, 17.74it/s]\n"
          ]
        },
        {
          "output_type": "stream",
          "name": "stdout",
          "text": [
            "Epoch 95\n",
            "----------\n",
            "Train Error: 0.1533, Train F1: 0.8087, Val Error: 0.6699, Val F1: 0.1364\n"
          ]
        },
        {
          "output_type": "stream",
          "name": "stderr",
          "text": [
            "430it [00:05, 81.50it/s]\n",
            "5it [00:00, 18.15it/s]\n"
          ]
        },
        {
          "output_type": "stream",
          "name": "stdout",
          "text": [
            "Epoch 96\n",
            "----------\n",
            "Train Error: 0.1525, Train F1: 0.8077, Val Error: 0.6701, Val F1: 0.0905\n"
          ]
        },
        {
          "output_type": "stream",
          "name": "stderr",
          "text": [
            "430it [00:05, 81.09it/s]\n",
            "5it [00:00, 17.72it/s]\n"
          ]
        },
        {
          "output_type": "stream",
          "name": "stdout",
          "text": [
            "Epoch 97\n",
            "----------\n",
            "Train Error: 0.1457, Train F1: 0.8214, Val Error: 0.6450, Val F1: 0.0117\n"
          ]
        },
        {
          "output_type": "stream",
          "name": "stderr",
          "text": [
            "430it [00:05, 81.69it/s]\n",
            "5it [00:00, 18.05it/s]\n"
          ]
        },
        {
          "output_type": "stream",
          "name": "stdout",
          "text": [
            "Epoch 98\n",
            "----------\n",
            "Train Error: 0.1593, Train F1: 0.7905, Val Error: 0.7847, Val F1: 0.0000\n"
          ]
        },
        {
          "output_type": "stream",
          "name": "stderr",
          "text": [
            "430it [00:05, 81.12it/s]\n",
            "5it [00:00, 17.74it/s]\n"
          ]
        },
        {
          "output_type": "stream",
          "name": "stdout",
          "text": [
            "Epoch 99\n",
            "----------\n",
            "Train Error: 0.1525, Train F1: 0.8108, Val Error: 0.5544, Val F1: 0.1834\n"
          ]
        },
        {
          "output_type": "stream",
          "name": "stderr",
          "text": [
            "430it [00:05, 81.62it/s]\n",
            "5it [00:00, 17.67it/s]"
          ]
        },
        {
          "output_type": "stream",
          "name": "stdout",
          "text": [
            "Epoch 100\n",
            "----------\n",
            "Train Error: 0.1437, Train F1: 0.8250, Val Error: 0.6112, Val F1: 0.1043\n"
          ]
        },
        {
          "output_type": "stream",
          "name": "stderr",
          "text": [
            "\n"
          ]
        }
      ],
      "source": [
        "n_epochs = 100\n",
        "best_weights = copy.deepcopy(model.state_dict())\n",
        "best_loss = float('inf')\n",
        "\n",
        "\n",
        "for epoch in range(1, n_epochs+1):\n",
        "  train_loss = 0.0\n",
        "  training_loss = []\n",
        "  val_loss = []\n",
        "  model.train()\n",
        "  train_pred = []\n",
        "  train_y = []\n",
        "  val_pred = []\n",
        "  val_y = []\n",
        "  for i, minibatch in tqdm(enumerate(train_dataloader)):\n",
        "    x, y = minibatch\n",
        "    x = x.to(device)\n",
        "    y = y.to(device)\n",
        "\n",
        "    optimizer.zero_grad()\n",
        "    probs = model(x)\n",
        "    loss = loss_fn(probs,y)\n",
        "    loss.backward()\n",
        "    optimizer.step()\n",
        "    training_loss.append(loss.item())\n",
        "    preds = (probs > 0.5).to(torch.int)\n",
        "    train_pred.append(preds.squeeze(1).cpu().numpy())\n",
        "    train_y.append(y.squeeze(1).to(torch.int).cpu().numpy())\n",
        "\n",
        "  model.eval()\n",
        "  for i, minibatch in tqdm(enumerate(val_dataloader)):\n",
        "    with torch.no_grad():\n",
        "      x, y = minibatch\n",
        "      x = x.to(device)\n",
        "      y = y.to(device)\n",
        "\n",
        "      probs = model(x)\n",
        "      loss = loss_fn(probs,y)\n",
        "      val_loss.append(loss.item())\n",
        "      preds = (probs > 0.5).to(torch.float)\n",
        "      val_pred.append(preds.squeeze(1).cpu().numpy())\n",
        "      val_y.append(y.squeeze(1).to(torch.int).cpu().numpy())\n",
        "\n",
        "  training_loss = np.mean(training_loss)\n",
        "  val_loss = np.mean(val_loss)\n",
        "\n",
        "  total_train_preds = np.concatenate(train_pred, axis=0)\n",
        "  total_train_y = np.concatenate(train_y, axis=0)\n",
        "\n",
        "  train_f1 = f1_score(total_train_y, total_train_preds)\n",
        "\n",
        "  total_val_preds = np.concatenate(val_pred, axis=0)\n",
        "  total_val_y = np.concatenate(val_y, axis=0)\n",
        "  val_f1 = f1_score(total_val_y, total_val_preds)\n",
        "\n",
        "  print(f\"Epoch {epoch}\")\n",
        "  print(\"-\"*10)\n",
        "  print(\"Train Error: {:.4f}, Train F1: {:.4f}, Val Error: {:.4f}, Val F1: {:.4f}\".format(\n",
        "      training_loss, train_f1, val_loss, val_f1\n",
        "  ))\n",
        "  writer.add_scalar(\"Error/train\", training_loss, epoch)\n",
        "  writer.add_scalar(\"F1/train\", train_f1, epoch)\n",
        "  writer.add_scalar(\"Error/val\", val_loss, epoch)\n",
        "  writer.add_scalar(\"F1/val\", val_f1, epoch)\n",
        "\n",
        "  # Save weights with the best validation loss\n",
        "  if val_loss < best_loss:\n",
        "    best_loss = val_loss\n",
        "    best_weights = copy.deepcopy(model.state_dict())\n",
        "\n",
        "\n",
        "model.load_state_dict(best_weights)\n",
        "torch.save(model.state_dict(), f\"best_model.pt\")\n",
        "writer.flush()\n",
        "writer.close()"
      ]
    },
    {
      "cell_type": "code",
      "source": [
        "!cp -r runs/${EXP} /content/drive/MyDrive/ERS/runs/\n",
        "!cp best_model.pt /content/drive/MyDrive/ERS/runs/${EXP}/best_model.pt"
      ],
      "metadata": {
        "id": "hEqfRMRq2IZN"
      },
      "execution_count": null,
      "outputs": []
    },
    {
      "cell_type": "code",
      "source": [
        "model = model_class().to(device)\n",
        "model.load_state_dict(torch.load(f\"/content/drive/MyDrive/ERS/runs/{experiment}/best_model.pt\"))\n",
        "model.eval()\n",
        "\n",
        "test_pred = []\n",
        "test_y = []\n",
        "test_loss = []\n",
        "test_probs = []\n",
        "for i, minibatch in tqdm(enumerate(test_dataloader)):\n",
        "  with torch.no_grad():\n",
        "    x, y = minibatch\n",
        "    x = x.to(device)\n",
        "    y = y.to(device)\n",
        "\n",
        "    probs = model(x)\n",
        "    loss = loss_fn(probs,y)\n",
        "    test_loss.append(loss.item())\n",
        "    preds = (probs > 0.5).to(torch.float)\n",
        "    test_probs.append(probs.squeeze(1).cpu().numpy())\n",
        "    test_pred.append(preds.squeeze(1).cpu().numpy())\n",
        "    test_y.append(y.squeeze(1).to(torch.int).cpu().numpy())\n",
        "\n",
        "test_err = np.mean(test_loss)\n",
        "\n",
        "total_test_preds = np.concatenate(test_pred, axis=0)\n",
        "total_test_y = np.concatenate(test_y, axis=0)\n",
        "total_test_probs = np.concatenate(test_probs, axis=0)\n",
        "\n",
        "test_f1 = f1_score(total_test_y, total_test_preds)\n",
        "test_acc = balanced_accuracy_score(total_test_y, total_test_preds)\n",
        "test_auroc = roc_auc_score(total_test_y, total_test_probs)\n",
        "test_precision = precision_score(total_test_y, total_test_preds)\n",
        "test_recall = recall_score(total_test_y, total_test_preds)\n",
        "\n",
        "print(\"Test Error: {:.4f}, Test F1: {:.4f}, Test Acc: {:.4f}, Test AUROC: {:.4f}, Test Precision: {:.4f}, Test Recall: {:.4f}\".format(\n",
        "    test_err, test_f1, test_acc, test_auroc, test_precision, test_recall\n",
        "))\n",
        "\n",
        "test_results = {\n",
        "    \"Test Error\": test_err,\n",
        "    \"Test F1\": test_f1,\n",
        "    \"Test Acc\": test_acc,\n",
        "    \"Test AUROC\": test_auroc,\n",
        "    \"Test Precision\": test_precision,\n",
        "    \"Test Recall\": test_recall\n",
        "}\n",
        "\n",
        "import json\n",
        "with open(f\"/content/drive/MyDrive/ERS/runs/{experiment}/test_results.json\", \"w\") as f:\n",
        "  json.dump(test_results, f)\n"
      ],
      "metadata": {
        "colab": {
          "base_uri": "https://localhost:8080/"
        },
        "id": "RsWYyTxy2wk3",
        "outputId": "910336b8-bbd9-4d1b-9776-cbc0e8c9d0d1"
      },
      "execution_count": null,
      "outputs": [
        {
          "output_type": "stream",
          "name": "stderr",
          "text": [
            "9it [00:00, 16.12it/s]"
          ]
        },
        {
          "output_type": "stream",
          "name": "stdout",
          "text": [
            "Test Error: 0.6324, Test F1: 0.2664, Test Acc: 0.5230, Test AUROC: 0.6307, Test Precision: 0.2895, Test Recall: 0.2467\n"
          ]
        },
        {
          "output_type": "stream",
          "name": "stderr",
          "text": [
            "\n"
          ]
        }
      ]
    }
  ],
  "metadata": {
    "kernelspec": {
      "display_name": "Python 3",
      "language": "python",
      "name": "python3"
    },
    "language_info": {
      "codemirror_mode": {
        "name": "ipython",
        "version": 3
      },
      "file_extension": ".py",
      "mimetype": "text/x-python",
      "name": "python",
      "nbconvert_exporter": "python",
      "pygments_lexer": "ipython3",
      "version": "3.9.6 (tags/v3.9.6:db3ff76, Jun 28 2021, 15:26:21) [MSC v.1929 64 bit (AMD64)]"
    },
    "orig_nbformat": 4,
    "vscode": {
      "interpreter": {
        "hash": "09cd7a4f969d2ad8792d645d076315f55c94d3977407f85687fca56e114cf945"
      }
    },
    "colab": {
      "provenance": [],
      "machine_shape": "hm",
      "collapsed_sections": [
        "sgvWkgqopWpY",
        "0rm-por8pwdo"
      ],
      "gpuClass": "premium"
    },
    "accelerator": "GPU",
    "gpuClass": "premium"
  },
  "nbformat": 4,
  "nbformat_minor": 0
}